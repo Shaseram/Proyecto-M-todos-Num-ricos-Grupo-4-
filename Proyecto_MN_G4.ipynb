{
  "nbformat": 4,
  "nbformat_minor": 0,
  "metadata": {
    "colab": {
      "provenance": [],
      "include_colab_link": true
    },
    "kernelspec": {
      "name": "python3",
      "display_name": "Python 3"
    },
    "language_info": {
      "name": "python"
    }
  },
  "cells": [
    {
      "cell_type": "markdown",
      "metadata": {
        "id": "view-in-github",
        "colab_type": "text"
      },
      "source": [
        "<a href=\"https://colab.research.google.com/github/Shaseram/Proyecto-M-todos-Num-ricos-Grupo-4-/blob/main/Copia_de_Proyecto_MN_G4.ipynb\" target=\"_parent\"><img src=\"https://colab.research.google.com/assets/colab-badge.svg\" alt=\"Open In Colab\"/></a>"
      ]
    },
    {
      "cell_type": "markdown",
      "source": [
        "#Métodos Numéricos"
      ],
      "metadata": {
        "id": "4oSM537CBeQE"
      }
    },
    {
      "cell_type": "markdown",
      "source": [
        "##Funciones Objetivo"
      ],
      "metadata": {
        "id": "FXEatVAwER66"
      }
    },
    {
      "cell_type": "code",
      "source": [
        "# Primero, necesito reescribir la función objetivo y sus derivadas para el nuevo ejemplo propuesto:\n",
        "# Optimización de la sección transversal de una viga.\n",
        "\n",
        "import numpy as np\n",
        "\n",
        "# Constantes para el ejemplo\n",
        "alpha = 1.0  # Ponderación para el área\n",
        "beta = 0.1   # Ponderación para la deflexión\n",
        "L = 5     # Longitud de la viga\n",
        "E = 200000    # Módulo de elasticidad del material (ejemplo)"
      ],
      "metadata": {
        "id": "I9IIWQ-kbQB-"
      },
      "execution_count": null,
      "outputs": []
    },
    {
      "cell_type": "code",
      "source": [
        "# Actualización de los métodos para aceptar la función objetivo y sus derivadas como parámetros\n",
        "\n",
        "def func_objetivo(x):\n",
        "    h, b = x\n",
        "    area = h * b\n",
        "    deflexion = L**3 / (E * h * b**3)\n",
        "    return alpha * area + beta * deflexion\n",
        "\n",
        "def gradiente_func_objetivo_viga(x):\n",
        "    h, b = x\n",
        "    grad_h = alpha * b - beta * L**3 / (E * b**3)\n",
        "    grad_b = alpha * h - 3 * beta * L**3 / (E * h * b**4)\n",
        "    return np.array([grad_h, grad_b])\n",
        "\n",
        "def hessiano_func_objetivo_viga(x):\n",
        "    h, b = x\n",
        "    hess_hh = 0\n",
        "    hess_hb = alpha + 3 * beta * L**3 / (E * b**4)\n",
        "    hess_bh = hess_hb\n",
        "    hess_bb = 12 * beta * L**3 / (E * h * b**5)\n",
        "    return np.array([[hess_hh, hess_hb], [hess_bh, hess_bb]])"
      ],
      "metadata": {
        "id": "igjqddsqEP64"
      },
      "execution_count": null,
      "outputs": []
    },
    {
      "cell_type": "markdown",
      "source": [
        "##Descenso Pronunciado"
      ],
      "metadata": {
        "id": "ejdufCrcBgwk"
      }
    },
    {
      "cell_type": "code",
      "source": [
        "def descensoPronunciado(func_obj, grad_func, x0, learning_rate, n_iterations):\n",
        "    x = x0\n",
        "    for _ in range(n_iterations):\n",
        "        x = x - learning_rate * grad_func(x)\n",
        "    return x"
      ],
      "metadata": {
        "id": "F7-FHMj_Biyh"
      },
      "execution_count": null,
      "outputs": []
    },
    {
      "cell_type": "markdown",
      "source": [
        "##Método de Newton"
      ],
      "metadata": {
        "id": "YaNvE84SBob2"
      }
    },
    {
      "cell_type": "code",
      "execution_count": null,
      "metadata": {
        "id": "Fbl4UqpNAJUX"
      },
      "outputs": [],
      "source": [
        "def metodoNewton(func_obj, grad_func, hess_func, x0, n_iterations):\n",
        "    x = x0\n",
        "    for _ in range(n_iterations):\n",
        "        grad = grad_func(x)\n",
        "        hess = hess_func(x)\n",
        "        x = x - np.linalg.inv(hess) @ grad\n",
        "    return x"
      ]
    },
    {
      "cell_type": "markdown",
      "source": [
        "##Método de Gradiente Conjugado"
      ],
      "metadata": {
        "id": "08ViYfJhBuSD"
      }
    },
    {
      "cell_type": "code",
      "source": [
        "def gradienteConjugado(func_obj, grad_func, x0, n_iterations):\n",
        "    x = x0\n",
        "    r = -grad_func(x)\n",
        "    p = r\n",
        "    for _ in range(n_iterations):\n",
        "        Ap = grad_func(x + p) - grad_func(x)\n",
        "        alpha = np.dot(r, r) / np.dot(p, Ap)\n",
        "        x = x + alpha * p\n",
        "        r_new = r - alpha * Ap\n",
        "        if np.linalg.norm(r_new) < 1e-8:  # criterio de convergencia\n",
        "            break\n",
        "        beta = np.dot(r_new, r_new) / np.dot(r, r)\n",
        "        p = r_new + beta * p\n",
        "        r = r_new\n",
        "    return x"
      ],
      "metadata": {
        "id": "LMt7MUKIBv5p"
      },
      "execution_count": null,
      "outputs": []
    },
    {
      "cell_type": "markdown",
      "source": [
        "##Función para probar"
      ],
      "metadata": {
        "id": "aMieAySLEdcc"
      }
    },
    {
      "cell_type": "code",
      "source": [
        "def probarCodigo(x0, aprendizaje, iteraciones):\n",
        "    gd_result = descensoPronunciado(func_objetivo, gradiente_func_objetivo_viga, x0, aprendizaje, iteraciones)\n",
        "    nm_result = metodoNewton(func_objetivo, gradiente_func_objetivo_viga, hessiano_func_objetivo_viga, x0, iteraciones)\n",
        "    cg_result = gradienteConjugado(func_objetivo, gradiente_func_objetivo_viga, x0, iteraciones)\n",
        "\n",
        "    print(\"Descenso Pronunciado:\", gd_result)\n",
        "    print(\"Método de Newton:\", nm_result)\n",
        "    print(\"Gradiente Conjugado:\", cg_result)"
      ],
      "metadata": {
        "id": "zRiISinBEuTb"
      },
      "execution_count": null,
      "outputs": []
    },
    {
      "cell_type": "markdown",
      "source": [
        "#Pruebas"
      ],
      "metadata": {
        "id": "sDwMcZKrBs8s"
      }
    },
    {
      "cell_type": "code",
      "source": [
        "import numpy as np\n",
        "# Punto inicial, tasa de aprendizaje y número de iteraciones para los métodos\n",
        "x0 = np.array([0.25, 0.35])  # Dimensiones iniciales de la sección transversal de la viga\n",
        "aprendizaje = 0.005\n",
        "iteraciones = 100\n",
        "\n",
        "# Ejecución de la prueba\n",
        "probarCodigo(x0, aprendizaje, iteraciones)"
      ],
      "metadata": {
        "colab": {
          "base_uri": "https://localhost:8080/"
        },
        "id": "oa_T7SpIBrem",
        "outputId": "5479afba-7914-43d5-cd28-0ae38ea81760"
      },
      "execution_count": null,
      "outputs": [
        {
          "output_type": "stream",
          "name": "stdout",
          "text": [
            "Descenso Pronunciado: [0.08914809 0.32211644]\n",
            "Método de Newton: [1.73205081 0.08891397]\n",
            "Gradiente Conjugado: [2.87601661 0.0188869 ]\n"
          ]
        }
      ]
    }
  ]
}
